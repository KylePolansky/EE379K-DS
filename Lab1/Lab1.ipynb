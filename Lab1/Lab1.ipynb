{
 "cells": [
  {
   "cell_type": "markdown",
   "metadata": {},
   "source": [
    "Karthik Konath (), Kyle Polansky (kpp446)"
   ]
  },
  {
   "cell_type": "markdown",
   "metadata": {},
   "source": [
    "# <center>EE 379K-DS Lab 1<center>"
   ]
  },
  {
   "cell_type": "markdown",
   "metadata": {},
   "source": [
    "# Question 1\n",
    "Create 1000 samples from a Gaussian distribution with mean -10 and standard deviation 5. Create another 1000 samples from another independent Gaussian with mean 10 and standard deviation 5."
   ]
  },
  {
   "cell_type": "code",
   "execution_count": 35,
   "metadata": {
    "collapsed": true
   },
   "outputs": [],
   "source": [
    "import numpy as np\n",
    "import matplotlib.pyplot as plt"
   ]
  },
  {
   "cell_type": "code",
   "execution_count": 36,
   "metadata": {
    "collapsed": true
   },
   "outputs": [],
   "source": [
    "#Sample from 2 normal distributions \n",
    "normal1Samples = np.random.normal(-10, 5, 1000)\n",
    "normal2Samples = np.random.normal(10, 5, 1000)\n",
    "\n",
    "#Sum each point in the distributions\n",
    "normalSum = normal1Samples + normal2Samples"
   ]
  },
  {
   "cell_type": "markdown",
   "metadata": {},
   "source": [
    "### 1.a\n",
    "Take the sum of 2 these Gaussians by adding the two sets of 1000 points, point by point, and plot the histogram of the resulting 1000 points. What do you observe?"
   ]
  },
  {
   "cell_type": "code",
   "execution_count": 37,
   "metadata": {},
   "outputs": [
    {
     "data": {
      "image/png": "[encoded data removed]",
      "text/plain": [
       "<matplotlib.figure.Figure at 0x22621cee080>"
      ]
     },
     "metadata": {},
     "output_type": "display_data"
    }
   ],
   "source": [
    "#Plot sum distribution\n",
    "count, bins, ignored = plt.hist(normalSum, 30, density=True)\n",
    "plt.show()"
   ]
  },
  {
   "cell_type": "markdown",
   "metadata": {},
   "source": [
    "### 1.b\n",
    "Estimate the mean and the variance of the sum."
   ]
  },
  {
   "cell_type": "code",
   "execution_count": 39,
   "metadata": {},
   "outputs": [
    {
     "name": "stdout",
     "output_type": "stream",
     "text": [
      "Mean: -0.225800343926\n",
      "Variance: 51.2030948617\n"
     ]
    }
   ],
   "source": [
    "#Calculate Mean and Variance\n",
    "normalSumMean = np.mean(normalSum)\n",
    "normalSumVariance = np.var(normalSum)\n",
    "\n",
    "print(\"Mean: %s\" % (normalSumMean))\n",
    "print(\"Variance: %s\" % (normalSumVariance))"
   ]
  },
  {
   "cell_type": "markdown",
   "metadata": {},
   "source": [
    "# Question 2\n",
    "Central Limit Theorem. Let $X_i$ be an iid Bernoulli random variable with value $\\{-1,1\\}$. Look at the random variable $Z_n = \\frac{1}{n} \\sum X_i$. By taking 1000 draws from $Z_n$, plot its histogram. Check that for small $n$ (say, 5-10) $Z_n$ does not look that much like a Gaussian, but when $n$ is bigger (already by the time $n$ = 30 or 50) it looks much more like a Gaussian. Check also for much bigger $n$: $n$ = 250, to see that at this point, one can really see the bell curve."
   ]
  },
  {
   "cell_type": "code",
   "execution_count": 128,
   "metadata": {},
   "outputs": [
    {
     "name": "stdout",
     "output_type": "stream",
     "text": [
      "0.074\n"
     ]
    }
   ],
   "source": [
    "from scipy.stats import bernoulli\n",
    "\n",
    "#Create bernoulli distribution (50% 0's and 50% 1's)\n",
    "dist = bernoulli.rvs(.5, size=1000)\n",
    "\n",
    "#Replace 0's with -1 to get a -1/1 distribution\n",
    "dist[dist == 0] = -1\n",
    "\n",
    "#Think I may be on the wrong track with this problem."
   ]
  },
  {
   "cell_type": "markdown",
   "metadata": {},
   "source": [
    "# Question 3\n",
    "Estimate the mean and standard deviation from 1 dimensional data: generate 25,000 samples from a Gaussian distribution with mean 0 and standard deviation 5. Then estimate the mean and standard deviation of this gaussian using elementary numpy commands, i.e., addition, multiplication, division (do not use a command that takes data and returns the mean or standard deviation)."
   ]
  },
  {
   "cell_type": "markdown",
   "metadata": {},
   "source": [
    "Mean Forumla: $\\frac{1}{n} * (\\sum X_i)$  \n",
    "Variance Formula: $\\sqrt{\\frac{1}{n} \\sum(x_i - \\mu)^2}$"
   ]
  },
  {
   "cell_type": "code",
   "execution_count": 185,
   "metadata": {},
   "outputs": [
    {
     "name": "stdout",
     "output_type": "stream",
     "text": [
      "Mean: -0.0182031028626\n",
      "Standard Deviation: 4.98439877018\n"
     ]
    }
   ],
   "source": [
    "#Generate 25,000 samples\n",
    "normal = np.random.normal(0, 5, 25000)\n",
    "\n",
    "#Manually calculate sum\n",
    "normalSum = np.sum(normal)\n",
    "normalMean = np.divide(normalSum, normal.size)\n",
    "\n",
    "print(\"Mean: %s\" % (normalMean))\n",
    "\n",
    "#Manually calculate standard deviation\n",
    "normalDifference = np.subtract(normal, normalMean)\n",
    "normalDifferenceSquared = np.power(normalDifference, 2)\n",
    "normalDifferenceSquaredSum = np.sum(normalDifferenceSquared)\n",
    "normalVariance = np.divide(normalDifferenceSquaredSum, normal.size)\n",
    "normalStandardDeviation = np.sqrt(normalVariance)\n",
    "\n",
    "print(\"Standard Deviation: %s\" % (normalStandardDeviation))"
   ]
  },
  {
   "cell_type": "markdown",
   "metadata": {},
   "source": [
    "# Question 4\n",
    "Estimate the mean and covariance matrix for multi-dimensional data: generate 10,000 samples of 2 dimensional data from the Gaussian distribution\n",
    "\n",
    "\n",
    "\n",
    "Then, estimate the mean and covariance matrix for this multi-dimensional data using elementary numpy commands, i.e., addition, multiplication, division (do not use a command that takes data and returns the mean or standard deviation)."
   ]
  },
  {
   "cell_type": "markdown",
   "metadata": {},
   "source": [
    "# Question 5\n",
    "Download from Canvas/Files the dataset PatientData.csv.\n",
    "\n",
    "Each row is a patient and the last column is the condition that the patient has. Do data exploration using Pandas and other visualization tools to understand what you can about the dataset. For example:  \n",
    ">    (a) How many patients and how many features are there?  \n",
    "    (b) What is the meaning of the first 4 features? See if you can understand what they mean.  \n",
    "    (c) Are there missing values? Replace them with the average of the corresponding feature column  \n",
    "    (d) How could you test which features strongly influence the patient condition and which do not?  \n",
    "\n",
    "List what you think are the three most important features."
   ]
  }
 ],
 "metadata": {
  "kernelspec": {
   "display_name": "Python 3",
   "language": "python",
   "name": "python3"
  },
  "language_info": {
   "codemirror_mode": {
    "name": "ipython",
    "version": 3
   },
   "file_extension": ".py",
   "mimetype": "text/x-python",
   "name": "python",
   "nbconvert_exporter": "python",
   "pygments_lexer": "ipython3",
   "version": "3.5.2"
  }
 },
 "nbformat": 4,
 "nbformat_minor": 2
}
