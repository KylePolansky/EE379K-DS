{
 "cells": [
  {
   "cell_type": "markdown",
   "metadata": {},
   "source": [
    "Karthik Konath (kk28699), Kyle Polansky (kpp446)"
   ]
  },
  {
   "cell_type": "markdown",
   "metadata": {},
   "source": [
    "# <center>EE 379K-DS Lab 1<center>"
   ]
  },
  {
   "cell_type": "markdown",
   "metadata": {},
   "source": [
    "# Question 1\n",
    "Create 1000 samples from a Gaussian distribution with mean -10 and standard deviation 5. Create another 1000 samples from another independent Gaussian with mean 10 and standard deviation 5."
   ]
  },
  {
   "cell_type": "code",
   "execution_count": 14,
   "metadata": {},
   "outputs": [],
   "source": [
    "import numpy as np\n",
    "import matplotlib.pyplot as plt"
   ]
  },
  {
   "cell_type": "code",
   "execution_count": 15,
   "metadata": {
    "collapsed": true
   },
   "outputs": [],
   "source": [
    "#Sample from 2 normal distributions \n",
    "normal1Samples = np.random.normal(-10, 5, 1000)\n",
    "normal2Samples = np.random.normal(10, 5, 1000)\n",
    "\n",
    "#Sum each point in the distributions\n",
    "normalSum = normal1Samples + normal2Samples"
   ]
  },
  {
   "cell_type": "markdown",
   "metadata": {},
   "source": [
    "### 1.a\n",
    "Take the sum of 2 these Gaussians by adding the two sets of 1000 points, point by point, and plot the histogram of the resulting 1000 points. What do you observe?"
   ]
  },
  {
   "cell_type": "code",
   "execution_count": 3,
   "metadata": {},
   "outputs": [
    {
     "data": {
      "image/png": "[encoded data removed]",
      "text/plain": [
       "<matplotlib.figure.Figure at 0x10b6a7250>"
      ]
     },
     "metadata": {},
     "output_type": "display_data"
    }
   ],
   "source": [
    "#Plot sum distribution\n",
    "count, bins, ignored = plt.hist(normalSum, 30, density=True)\n",
    "plt.show()"
   ]
  },
  {
   "cell_type": "markdown",
   "metadata": {},
   "source": [
    "### 1.b\n",
    "Estimate the mean and the variance of the sum."
   ]
  },
  {
   "cell_type": "code",
   "execution_count": 4,
   "metadata": {},
   "outputs": [
    {
     "name": "stdout",
     "output_type": "stream",
     "text": [
      "Mean: 0.179075975476\n",
      "Variance: 49.3423186407\n"
     ]
    }
   ],
   "source": [
    "#Calculate Mean and Variance\n",
    "normalSumMean = np.mean(normalSum)\n",
    "normalSumVariance = np.var(normalSum)\n",
    "\n",
    "print(\"Mean: %s\" % (normalSumMean))\n",
    "print(\"Variance: %s\" % (normalSumVariance))"
   ]
  },
  {
   "cell_type": "markdown",
   "metadata": {},
   "source": [
    "# Question 2\n",
    "Central Limit Theorem. Let $X_i$ be an iid Bernoulli random variable with value $\\{-1,1\\}$. Look at the random variable $Z_n = \\frac{1}{n} \\sum X_i$. By taking 1000 draws from $Z_n$, plot its histogram. Check that for small $n$ (say, 5-10) $Z_n$ does not look that much like a Gaussian, but when $n$ is bigger (already by the time $n$ = 30 or 50) it looks much more like a Gaussian. Check also for much bigger $n$: $n$ = 250, to see that at this point, one can really see the bell curve."
   ]
  },
  {
   "cell_type": "code",
   "execution_count": 66,
   "metadata": {},
   "outputs": [
    {
     "data": {
      "image/png": "[encoded data removed]",
      "text/plain": [
       "<matplotlib.figure.Figure at 0x1a178fc290>"
      ]
     },
     "metadata": {},
     "output_type": "display_data"
    },
    {
     "data": {
      "image/png": "[encoded data removed]",
      "text/plain": [
       "<matplotlib.figure.Figure at 0x1a1839f110>"
      ]
     },
     "metadata": {},
     "output_type": "display_data"
    },
    {
     "data": {
      "image/png": "[encoded data removed]",
      "text/plain": [
       "<matplotlib.figure.Figure at 0x1a1790b350>"
      ]
     },
     "metadata": {},
     "output_type": "display_data"
    }
   ],
   "source": [
    "from scipy.stats import bernoulli\n",
    "\n",
    "#Create bernoulli distribution (50% 0's and 50% 1's)\n",
    "#dist = bernoulli.rvs(.5)\n",
    "\n",
    "#Replace 0's with -1 to get a -1/1 distribution\n",
    "#dist[dist == 0] = -1\n",
    "\n",
    "#Think I may be on the wrong track with this problem.\n",
    "n1=0\n",
    "i1=0\n",
    "z1=[]\n",
    "while (n1 < 5):\n",
    "    z1.append(0.0)\n",
    "    while (i1<1000):\n",
    "        x1 = (bernoulli.rvs(0.5))*2-1\n",
    "        z1[n1]+=x1\n",
    "        i1+=1\n",
    "    z1[n1]/=i1\n",
    "    n1+=1\n",
    "    i1=0\n",
    "plt.hist(z1, 30)\n",
    "plt.show()\n",
    "\n",
    "n2=0\n",
    "i2=0\n",
    "z2=[]\n",
    "while (n2 < 50):\n",
    "    z2.append(0.0)\n",
    "    while (i2<1000):\n",
    "        x2 = (bernoulli.rvs(0.5))*2-1\n",
    "        z2[n2]+=x2\n",
    "        i2+=1\n",
    "    z2[n2]/=i2\n",
    "    n2+=1\n",
    "    i2=0\n",
    "plt.hist(z2, 30)\n",
    "plt.show()\n",
    "\n",
    "n3=0\n",
    "i3=0\n",
    "z3=[]\n",
    "while (n3 < 250):\n",
    "    z3.append(0.0)\n",
    "    while (i3<1000):\n",
    "        x3 = (bernoulli.rvs(0.5))*2-1\n",
    "        z3[n3]+=x3\n",
    "        i3+=1\n",
    "    z3[n3]/=i3\n",
    "    n3+=1\n",
    "    i3=0\n",
    "plt.hist(z3, 30)\n",
    "plt.show()"
   ]
  },
  {
   "cell_type": "markdown",
   "metadata": {},
   "source": [
    "# Question 3\n",
    "Estimate the mean and standard deviation from 1 dimensional data: generate 25,000 samples from a Gaussian distribution with mean 0 and standard deviation 5. Then estimate the mean and standard deviation of this gaussian using elementary numpy commands, i.e., addition, multiplication, division (do not use a command that takes data and returns the mean or standard deviation)."
   ]
  },
  {
   "cell_type": "markdown",
   "metadata": {},
   "source": [
    "Mean Forumla: $\\frac{1}{n} * (\\sum X_i)$  \n",
    "Variance Formula: $\\sqrt{\\frac{1}{n} \\sum(x_i - \\mu)^2}$"
   ]
  },
  {
   "cell_type": "code",
   "execution_count": 13,
   "metadata": {},
   "outputs": [
    {
     "name": "stdout",
     "output_type": "stream",
     "text": [
      "Mean: -0.0188711928608\n",
      "Standard Deviation: 4.98196711289\n"
     ]
    }
   ],
   "source": [
    "#Generate 25,000 samples\n",
    "normal = np.random.normal(0, 5, 25000)\n",
    "\n",
    "#Manually calculate sum\n",
    "normalSum = np.sum(normal)\n",
    "normalMean = np.divide(normalSum, normal.size)\n",
    "\n",
    "print(\"Mean: %s\" % (normalMean))\n",
    "\n",
    "#Manually calculate standard deviation\n",
    "normalDifference = np.subtract(normal, normalMean)\n",
    "normalDifferenceSquared = np.power(normalDifference, 2)\n",
    "normalDifferenceSquaredSum = np.sum(normalDifferenceSquared)\n",
    "normalVariance = np.divide(normalDifferenceSquaredSum, normal.size)\n",
    "normalStandardDeviation = np.sqrt(normalVariance)\n",
    "\n",
    "print(\"Standard Deviation: %s\" % (normalStandardDeviation))"
   ]
  },
  {
   "cell_type": "markdown",
   "metadata": {},
   "source": [
    "# Question 4\n",
    "Estimate the mean and covariance matrix for multi-dimensional data: generate 10,000 samples of 2 dimensional data from the Gaussian distribution\n",
    "\n",
    "\n",
    "\n",
    "Then, estimate the mean and covariance matrix for this multi-dimensional data using elementary numpy commands, i.e., addition, multiplication, division (do not use a command that takes data and returns the mean or standard deviation)."
   ]
  },
  {
   "cell_type": "code",
   "execution_count": 27,
   "metadata": {},
   "outputs": [
    {
     "name": "stdout",
     "output_type": "stream",
     "text": [
      "Mean:  [-4.9293782   4.97575529]\n",
      "COV:  [[20.221773785430326, 0.27975294509373494], [0.27975294509373494, 30.346783231009113]]\n"
     ]
    }
   ],
   "source": [
    "#Generate 10,000 random multivariate samples\n",
    "k = np.random.multivariate_normal([-5,5],[[20,.8],[.8,30]],10000)\n",
    "\n",
    "#Manually calculate mean\n",
    "kSum = np.sum(k, axis=0)\n",
    "kMean = np.divide(kSum,k.shape[0])\n",
    "print \"Mean: \", kMean\n",
    "\n",
    "#Manually calculate covariance matrix\n",
    "xdiff = np.subtract(k,kMean)\n",
    "xdiffmult = np.multiply(xdiff[:,0],xdiff[:,1])\n",
    "xdiffmultsum = np.sum(xdiffmult)\n",
    "covar = np.divide(xdiffmultsum,k.shape[0]-1)\n",
    "varx = np.divide(np.sum(np.square(k[:,0]-kMean[0])),k.shape[0]-1)\n",
    "vary = np.divide(np.sum(np.square(k[:,1]-kMean[1])),k.shape[0]-1)\n",
    "COV = [[varx,covar],[covar,vary]]\n",
    "print\"COV: \", COV"
   ]
  },
  {
   "cell_type": "markdown",
   "metadata": {},
   "source": [
    "# Question 5\n",
    "Download from Canvas/Files the dataset PatientData.csv.\n",
    "\n",
    "Each row is a patient and the last column is the condition that the patient has. Do data exploration using Pandas and other visualization tools to understand what you can about the dataset. For example:  \n",
    ">    (a) How many patients and how many features are there?  \n",
    "    (b) What is the meaning of the first 4 features? See if you can understand what they mean.  \n",
    "    (c) Are there missing values? Replace them with the average of the corresponding feature column  \n",
    "    (d) How could you test which features strongly influence the patient condition and which do not?  \n",
    "\n",
    "List what you think are the three most important features."
   ]
  },
  {
   "cell_type": "code",
   "execution_count": 8,
   "metadata": {
    "collapsed": true
   },
   "outputs": [],
   "source": [
    "import pandas as pd\n",
    "\n",
    "#Import file\n",
    "data = pd.read_csv('PatientData.csv')"
   ]
  }
 ],
 "metadata": {
  "kernelspec": {
   "display_name": "Python 2",
   "language": "python",
   "name": "python2"
  },
  "language_info": {
   "codemirror_mode": {
    "name": "ipython",
    "version": 2
   },
   "file_extension": ".py",
   "mimetype": "text/x-python",
   "name": "python",
   "nbconvert_exporter": "python",
   "pygments_lexer": "ipython2",
   "version": "2.7.14"
  }
 },
 "nbformat": 4,
 "nbformat_minor": 2
}
