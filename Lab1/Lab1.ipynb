{
 "cells": [
  {
   "cell_type": "markdown",
   "metadata": {},
   "source": [
    "Karthik Konath (kk28699), Kyle Polansky (kpp446)"
   ]
  },
  {
   "cell_type": "markdown",
   "metadata": {},
   "source": [
    "# <center>EE 379K-DS Lab 1<center>"
   ]
  },
  {
   "cell_type": "markdown",
   "metadata": {},
   "source": [
    "# Question 1\n",
    "Create 1000 samples from a Gaussian distribution with mean -10 and standard deviation 5. Create another 1000 samples from another independent Gaussian with mean 10 and standard deviation 5."
   ]
  },
  {
   "cell_type": "code",
   "execution_count": 129,
   "metadata": {
    "collapsed": true
   },
   "outputs": [],
   "source": [
    "import numpy as np\n",
    "import matplotlib.pyplot as plt"
   ]
  },
  {
   "cell_type": "code",
   "execution_count": 130,
   "metadata": {
    "collapsed": true
   },
   "outputs": [],
   "source": [
    "#Sample from 2 normal distributions \n",
    "normal1Samples = np.random.normal(-10, 5, 1000)\n",
    "normal2Samples = np.random.normal(10, 5, 1000)\n",
    "\n",
    "#Sum each point in the distributions\n",
    "normalSum = normal1Samples + normal2Samples"
   ]
  },
  {
   "cell_type": "markdown",
   "metadata": {},
   "source": [
    "### 1.a\n",
    "Take the sum of 2 these Gaussians by adding the two sets of 1000 points, point by point, and plot the histogram of the resulting 1000 points. What do you observe?"
   ]
  },
  {
   "cell_type": "code",
   "execution_count": 131,
   "metadata": {},
   "outputs": [
    {
     "data": {
      "image/png": "[encoded data removed]",
      "text/plain": [
       "<matplotlib.figure.Figure at 0x2b10dadc6d8>"
      ]
     },
     "metadata": {},
     "output_type": "display_data"
    }
   ],
   "source": [
    "#Plot sum distribution\n",
    "count, bins, ignored = plt.hist(normalSum, 30, density=True)\n",
    "plt.show()"
   ]
  },
  {
   "cell_type": "markdown",
   "metadata": {},
   "source": [
    "### 1.b\n",
    "Estimate the mean and the variance of the sum."
   ]
  },
  {
   "cell_type": "code",
   "execution_count": 132,
   "metadata": {},
   "outputs": [
    {
     "name": "stdout",
     "output_type": "stream",
     "text": [
      "Mean:  0.003937270513588885\n",
      "Variance:  48.16780314646594\n"
     ]
    }
   ],
   "source": [
    "#Calculate Mean and Variance\n",
    "normalSumMean = np.mean(normalSum)\n",
    "normalSumVariance = np.var(normalSum)\n",
    "\n",
    "print(\"Mean: \", (normalSumMean))\n",
    "print(\"Variance: \", (normalSumVariance))"
   ]
  },
  {
   "cell_type": "markdown",
   "metadata": {},
   "source": [
    "# Question 2\n",
    "Central Limit Theorem. Let $X_i$ be an iid Bernoulli random variable with value $\\{-1,1\\}$. Look at the random variable $Z_n = \\frac{1}{n} \\sum X_i$. By taking 1000 draws from $Z_n$, plot its histogram. Check that for small $n$ (say, 5-10) $Z_n$ does not look that much like a Gaussian, but when $n$ is bigger (already by the time $n$ = 30 or 50) it looks much more like a Gaussian. Check also for much bigger $n$: $n$ = 250, to see that at this point, one can really see the bell curve."
   ]
  },
  {
   "cell_type": "code",
   "execution_count": 133,
   "metadata": {
    "collapsed": true
   },
   "outputs": [],
   "source": [
    "from scipy.stats import bernoulli\n",
    "\n",
    "#Create bernoulli distribution (50% 0's and 50% 1's)\n",
    "dist = bernoulli.rvs(.5, size=1000)\n",
    "\n",
    "#Replace 0's with -1 to get a -1/1 distribution\n",
    "dist[dist == 0] = -1\n",
    "\n",
    "#Think I may be on the wrong track with this problem."
   ]
  },
  {
   "cell_type": "markdown",
   "metadata": {},
   "source": [
    "# Question 3\n",
    "Estimate the mean and standard deviation from 1 dimensional data: generate 25,000 samples from a Gaussian distribution with mean 0 and standard deviation 5. Then estimate the mean and standard deviation of this gaussian using elementary numpy commands, i.e., addition, multiplication, division (do not use a command that takes data and returns the mean or standard deviation)."
   ]
  },
  {
   "cell_type": "markdown",
   "metadata": {},
   "source": [
    "Mean Forumla: $\\frac{1}{n} * (\\sum X_i)$  \n",
    "Variance Formula: $\\sqrt{\\frac{1}{n} \\sum(x_i - \\mu)^2}$"
   ]
  },
  {
   "cell_type": "code",
   "execution_count": 134,
   "metadata": {},
   "outputs": [
    {
     "name": "stdout",
     "output_type": "stream",
     "text": [
      "Mean:  -0.028935036402166388\n",
      "Standard Deviation:  4.989828368162542\n"
     ]
    }
   ],
   "source": [
    "#Generate 25,000 samples\n",
    "normal = np.random.normal(0, 5, 25000)\n",
    "\n",
    "#Manually calculate sum\n",
    "normalSum = np.sum(normal)\n",
    "normalMean = np.divide(normalSum, normal.size)\n",
    "\n",
    "print(\"Mean: \", (normalMean))\n",
    "\n",
    "#Manually calculate standard deviation\n",
    "normalDifference = np.subtract(normal, normalMean)\n",
    "normalDifferenceSquared = np.power(normalDifference, 2)\n",
    "normalDifferenceSquaredSum = np.sum(normalDifferenceSquared)\n",
    "normalVariance = np.divide(normalDifferenceSquaredSum, normal.size)\n",
    "normalStandardDeviation = np.sqrt(normalVariance)\n",
    "\n",
    "print(\"Standard Deviation: \", (normalStandardDeviation))"
   ]
  },
  {
   "cell_type": "markdown",
   "metadata": {},
   "source": [
    "# Question 4\n",
    "Estimate the mean and covariance matrix for multi-dimensional data: generate 10,000 samples of 2 dimensional data from the Gaussian distribution\n",
    "\n",
    "\n",
    "\n",
    "Then, estimate the mean and covariance matrix for this multi-dimensional data using elementary numpy commands, i.e., addition, multiplication, division (do not use a command that takes data and returns the mean or standard deviation)."
   ]
  },
  {
   "cell_type": "markdown",
   "metadata": {},
   "source": [
    "# Question 5\n",
    "Download from Canvas/Files the dataset PatientData.csv.\n",
    "\n",
    "Each row is a patient and the last column is the condition that the patient has. Do data exploration using Pandas and other visualization tools to understand what you can about the dataset. For example:"
   ]
  },
  {
   "cell_type": "markdown",
   "metadata": {},
   "source": [
    "### 5.a\n",
    "How many patients and how many features are there?"
   ]
  },
  {
   "cell_type": "code",
   "execution_count": 135,
   "metadata": {
    "scrolled": true
   },
   "outputs": [
    {
     "name": "stdout",
     "output_type": "stream",
     "text": [
      "Patients:  452\n",
      "Features:  279\n"
     ]
    }
   ],
   "source": [
    "import pandas as pd\n",
    "\n",
    "#Import file\n",
    "df = pd.read_csv('PatientData.csv', header=None)\n",
    "\n",
    "#How many patients & features\n",
    "rows = df.shape[0]\n",
    "columns = df.shape[1] - 1 #Subtracting 1 since last column is the label\n",
    "\n",
    "print(\"Patients: \", (rows))\n",
    "print(\"Features: \", (columns))"
   ]
  },
  {
   "cell_type": "markdown",
   "metadata": {},
   "source": [
    "### 5.b\n",
    "What is the meaning of the first 4 features? See if you can understand what they mean."
   ]
  },
  {
   "cell_type": "code",
   "execution_count": 136,
   "metadata": {
    "scrolled": false
   },
   "outputs": [
    {
     "name": "stdout",
     "output_type": "stream",
     "text": [
      "count    452.000000\n",
      "mean      46.471239\n",
      "std       16.466631\n",
      "min        0.000000\n",
      "5%        17.000000\n",
      "25%       36.000000\n",
      "50%       47.000000\n",
      "75%       58.000000\n",
      "95%       72.000000\n",
      "max       83.000000\n",
      "Name: 0, dtype: float64\n",
      "count    452.000000\n",
      "mean       0.550885\n",
      "std        0.497955\n",
      "min        0.000000\n",
      "5%         0.000000\n",
      "25%        0.000000\n",
      "50%        1.000000\n",
      "75%        1.000000\n",
      "95%        1.000000\n",
      "max        1.000000\n",
      "Name: 1, dtype: float64\n",
      "count    452.000000\n",
      "mean     166.188053\n",
      "std       37.170340\n",
      "min      105.000000\n",
      "5%       150.000000\n",
      "25%      160.000000\n",
      "50%      164.000000\n",
      "75%      170.000000\n",
      "95%      178.000000\n",
      "max      780.000000\n",
      "Name: 2, dtype: float64\n",
      "count    452.000000\n",
      "mean      68.170354\n",
      "std       16.590803\n",
      "min        6.000000\n",
      "5%        45.000000\n",
      "25%       59.000000\n",
      "50%       68.000000\n",
      "75%       79.000000\n",
      "95%       94.000000\n",
      "max      176.000000\n",
      "Name: 3, dtype: float64\n"
     ]
    }
   ],
   "source": [
    "#Look at first 4 rows:\n",
    "for x in range(4):\n",
    "    print(df[x].describe([.05, .25, .5, .75, .95]))"
   ]
  },
  {
   "cell_type": "markdown",
   "metadata": {},
   "source": [
    "Column 0: May be age, with a few outliers  \n",
    "Column 1: Appears to be either 0 or 1, likely for gender  \n",
    "Column 2: May be height in cm  \n",
    "Column 3: May be weight in kg"
   ]
  },
  {
   "cell_type": "markdown",
   "metadata": {},
   "source": [
    "### 5.c\n",
    "Are there missing values? Replace them with the average of the corresponding feature column"
   ]
  },
  {
   "cell_type": "code",
   "execution_count": 137,
   "metadata": {
    "scrolled": true
   },
   "outputs": [],
   "source": [
    "#Fill missing values with average\n",
    "for column in df.columns:\n",
    "    df[column] = pd.to_numeric(df[column], errors='coerce')\n",
    "    columnMean = df[column].mean()\n",
    "    df[column] = df[column].fillna(value=columnMean)"
   ]
  },
  {
   "cell_type": "markdown",
   "metadata": {},
   "source": [
    "### 5.d\n",
    "How could you test which features strongly influence the patient condition and which do not?"
   ]
  },
  {
   "cell_type": "code",
   "execution_count": 138,
   "metadata": {
    "scrolled": false
   },
   "outputs": [
    {
     "name": "stdout",
     "output_type": "stream",
     "text": [
      "Most important features [223  14 266]\n"
     ]
    }
   ],
   "source": [
    "from sklearn.feature_selection import SelectKBest\n",
    "from sklearn.ensemble import ExtraTreesClassifier\n",
    "from sklearn.feature_selection import mutual_info_classif\n",
    "\n",
    "array = df.values\n",
    "\n",
    "#Split array into features and labels\n",
    "X = array[:,0:columns]\n",
    "Y = array[:,columns]\n",
    "\n",
    "#Create Random Forest\n",
    "model = ExtraTreesClassifier()\n",
    "model.fit(X, Y)\n",
    "featureImportance = model.feature_importances_\n",
    "\n",
    "#Select 3 most important features\n",
    "print(\"Most important features\", featureImportance.argsort()[-3:][::-1])"
   ]
  }
 ],
 "metadata": {
  "kernelspec": {
   "display_name": "Python 3",
   "language": "python",
   "name": "python3"
  },
  "language_info": {
   "codemirror_mode": {
    "name": "ipython",
    "version": 3
   },
   "file_extension": ".py",
   "mimetype": "text/x-python",
   "name": "python",
   "nbconvert_exporter": "python",
   "pygments_lexer": "ipython3",
   "version": "3.5.2"
  }
 },
 "nbformat": 4,
 "nbformat_minor": 2
}
